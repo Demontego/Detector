{
 "cells": [
  {
   "cell_type": "code",
   "execution_count": 1,
   "id": "b733bddf",
   "metadata": {},
   "outputs": [],
   "source": [
    "import flash\n",
    "from flash.image import ObjectDetectionData, ObjectDetector"
   ]
  },
  {
   "cell_type": "code",
   "execution_count": 5,
   "id": "dce6498c",
   "metadata": {},
   "outputs": [
    {
     "data": {
      "application/vnd.jupyter.widget-view+json": {
       "model_id": "b666cf374e3b44f497aa0b0124d225bb",
       "version_major": 2,
       "version_minor": 0
      },
      "text/plain": [
       "  0%|          | 0/929 [00:00<?, ?it/s]"
      ]
     },
     "metadata": {},
     "output_type": "display_data"
    },
    {
     "name": "stderr",
     "output_type": "stream",
     "text": [
      "\u001b[1m\u001b[1mINFO    \u001b[0m\u001b[1m\u001b[0m - \u001b[1m\u001b[34m\u001b[1mAutofixing records\u001b[0m\u001b[1m\u001b[34m\u001b[0m\u001b[1m\u001b[0m | \u001b[36micevision.parsers.parser\u001b[0m:\u001b[36mparse\u001b[0m:\u001b[36m122\u001b[0m\n"
     ]
    },
    {
     "data": {
      "application/vnd.jupyter.widget-view+json": {
       "model_id": "2f6493d5034b4983bfec936440403487",
       "version_major": 2,
       "version_minor": 0
      },
      "text/plain": [
       "  0%|          | 0/126 [00:00<?, ?it/s]"
      ]
     },
     "metadata": {},
     "output_type": "display_data"
    },
    {
     "name": "stderr",
     "output_type": "stream",
     "text": [
      "\u001b[32m\u001b[1mAUTOFIX-SUCCESS\u001b[0m\u001b[32m\u001b[0m - \u001b[32m\u001b[1m\u001b[31m(record_id: 10)\u001b[0m\u001b[32m\u001b[1m\u001b[0m\u001b[32m - Clipping bbox xmax from 640.00032 to image width 640 (Before: <BBox (xmin:617.67008, ymin:237.43003499999998, xmax:640.00032, ymax:250.230057)>)\u001b[0m | \u001b[36micevision.utils.logger_utils\u001b[0m:\u001b[36mautofix_log\u001b[0m:\u001b[36m17\u001b[0m\n",
      "\u001b[32m\u001b[1mAUTOFIX-SUCCESS\u001b[0m\u001b[32m\u001b[0m - \u001b[32m\u001b[1m\u001b[31m(record_id: 11)\u001b[0m\u001b[32m\u001b[1m\u001b[0m\u001b[32m - Clipping bbox ymax from 640.0003200000001 to image height 640 (Before: <BBox (xmin:50.450050000000005, ymin:72.07008000000002, xmax:283.96012399999995, ymax:640.0003200000001)>)\u001b[0m | \u001b[36micevision.utils.logger_utils\u001b[0m:\u001b[36mautofix_log\u001b[0m:\u001b[36m17\u001b[0m\n",
      "\u001b[32m\u001b[1mAUTOFIX-SUCCESS\u001b[0m\u001b[32m\u001b[0m - \u001b[32m\u001b[1m\u001b[31m(record_id: 22)\u001b[0m\u001b[32m\u001b[1m\u001b[0m\u001b[32m - Clipping bbox ymax from 480.00023999999996 to image height 480 (Before: <BBox (xmin:294.93984, ymin:367.89, xmax:484.63008, ymax:480.00023999999996)>)\u001b[0m | \u001b[36micevision.utils.logger_utils\u001b[0m:\u001b[36mautofix_log\u001b[0m:\u001b[36m17\u001b[0m\n",
      "\u001b[32m\u001b[1mAUTOFIX-SUCCESS\u001b[0m\u001b[32m\u001b[0m - \u001b[32m\u001b[1m\u001b[31m(record_id: 22)\u001b[0m\u001b[32m\u001b[1m\u001b[0m\u001b[32m - Clipping bbox ymin from -0.00023999999999091415 to 0 (Before: (<BBox (xmin:208.18016, ymin:-0.00023999999999091415, xmax:640.00032, ymax:474.60983999999996)>))\u001b[0m | \u001b[36micevision.utils.logger_utils\u001b[0m:\u001b[36mautofix_log\u001b[0m:\u001b[36m17\u001b[0m\n",
      "\u001b[32m\u001b[1mAUTOFIX-SUCCESS\u001b[0m\u001b[32m\u001b[0m - \u001b[32m\u001b[1m\u001b[31m(record_id: 22)\u001b[0m\u001b[32m\u001b[1m\u001b[0m\u001b[32m - Clipping bbox xmax from 640.00032 to image width 640 (Before: <BBox (xmin:208.18016, ymin:0, xmax:640.00032, ymax:474.60983999999996)>)\u001b[0m | \u001b[36micevision.utils.logger_utils\u001b[0m:\u001b[36mautofix_log\u001b[0m:\u001b[36m17\u001b[0m\n",
      "\u001b[32m\u001b[1mAUTOFIX-SUCCESS\u001b[0m\u001b[32m\u001b[0m - \u001b[32m\u001b[1m\u001b[31m(record_id: 22)\u001b[0m\u001b[32m\u001b[1m\u001b[0m\u001b[32m - Clipping bbox xmin from -0.0003200000000020964 to 0 (Before: <BBox (xmin:-0.0003200000000020964, ymin:0.0, xmax:130.27999999999997, ymax:174.43008)>)\u001b[0m | \u001b[36micevision.utils.logger_utils\u001b[0m:\u001b[36mautofix_log\u001b[0m:\u001b[36m17\u001b[0m\n",
      "\u001b[32m\u001b[1mAUTOFIX-SUCCESS\u001b[0m\u001b[32m\u001b[0m - \u001b[32m\u001b[1m\u001b[31m(record_id: 22)\u001b[0m\u001b[32m\u001b[1m\u001b[0m\u001b[32m - Clipping bbox xmax from 640.00032 to image width 640 (Before: <BBox (xmin:584.66016, ymin:100.54008, xmax:640.00032, ymax:136.19016)>)\u001b[0m | \u001b[36micevision.utils.logger_utils\u001b[0m:\u001b[36mautofix_log\u001b[0m:\u001b[36m17\u001b[0m\n",
      "\u001b[32m\u001b[1mAUTOFIX-SUCCESS\u001b[0m\u001b[32m\u001b[0m - \u001b[32m\u001b[1m\u001b[31m(record_id: 23)\u001b[0m\u001b[32m\u001b[1m\u001b[0m\u001b[32m - Clipping bbox xmax from 416.00020800000004 to image width 416 (Before: <BBox (xmin:341.390192, ymin:100.48992000000004, xmax:416.00020800000004, ymax:428.74016)>)\u001b[0m | \u001b[36micevision.utils.logger_utils\u001b[0m:\u001b[36mautofix_log\u001b[0m:\u001b[36m17\u001b[0m\n",
      "\u001b[32m\u001b[1mAUTOFIX-SUCCESS\u001b[0m\u001b[32m\u001b[0m - \u001b[32m\u001b[1m\u001b[31m(record_id: 24)\u001b[0m\u001b[32m\u001b[1m\u001b[0m\u001b[32m - Clipping bbox xmin from -0.00031999999999499096 to 0 (Before: <BBox (xmin:-0.00031999999999499096, ymin:148.959928, xmax:64.34976, ymax:230.909822)>)\u001b[0m | \u001b[36micevision.utils.logger_utils\u001b[0m:\u001b[36mautofix_log\u001b[0m:\u001b[36m17\u001b[0m\n",
      "\u001b[32m\u001b[1mAUTOFIX-SUCCESS\u001b[0m\u001b[32m\u001b[0m - \u001b[32m\u001b[1m\u001b[31m(record_id: 25)\u001b[0m\u001b[32m\u001b[1m\u001b[0m\u001b[32m - Clipping bbox xmax from 640.0003200000001 to image width 640 (Before: <BBox (xmin:13.990079999999978, ymin:2.8699200000000076, xmax:640.0003200000001, ymax:421.52016000000003)>)\u001b[0m | \u001b[36micevision.utils.logger_utils\u001b[0m:\u001b[36mautofix_log\u001b[0m:\u001b[36m17\u001b[0m\n",
      "\u001b[32m\u001b[1mAUTOFIX-SUCCESS\u001b[0m\u001b[32m\u001b[0m - \u001b[32m\u001b[1m\u001b[31m(record_id: 26)\u001b[0m\u001b[32m\u001b[1m\u001b[0m\u001b[32m - Clipping bbox ymax from 374.000187 to image height 374 (Before: <BBox (xmin:0.0, ymin:61.35002499999996, xmax:68.92, ymax:374.000187)>)\u001b[0m | \u001b[36micevision.utils.logger_utils\u001b[0m:\u001b[36mautofix_log\u001b[0m:\u001b[36m17\u001b[0m\n",
      "\u001b[32m\u001b[1mAUTOFIX-SUCCESS\u001b[0m\u001b[32m\u001b[0m - \u001b[32m\u001b[1m\u001b[31m(record_id: 28)\u001b[0m\u001b[32m\u001b[1m\u001b[0m\u001b[32m - Clipping bbox ymax from 640.0003200000001 to image height 640 (Before: <BBox (xmin:74.57975999999996, ymin:376.3401600000001, xmax:438.13991999999996, ymax:640.0003200000001)>)\u001b[0m | \u001b[36micevision.utils.logger_utils\u001b[0m:\u001b[36mautofix_log\u001b[0m:\u001b[36m17\u001b[0m\n",
      "\u001b[32m\u001b[1mAUTOFIX-SUCCESS\u001b[0m\u001b[32m\u001b[0m - \u001b[32m\u001b[1m\u001b[31m(record_id: 30)\u001b[0m\u001b[32m\u001b[1m\u001b[0m\u001b[32m - Clipping bbox ymax from 480.00000000000006 to image height 480 (Before: <BBox (xmin:232.99040000000002, ymin:121.70976000000002, xmax:599.73024, ymax:480.00000000000006)>)\u001b[0m | \u001b[36micevision.utils.logger_utils\u001b[0m:\u001b[36mautofix_log\u001b[0m:\u001b[36m17\u001b[0m\n",
      "\u001b[32m\u001b[1mAUTOFIX-SUCCESS\u001b[0m\u001b[32m\u001b[0m - \u001b[32m\u001b[1m\u001b[31m(record_id: 30)\u001b[0m\u001b[32m\u001b[1m\u001b[0m\u001b[32m - Clipping bbox ymax from 480.00000000000006 to image height 480 (Before: <BBox (xmin:48.54015999999996, ymin:79.82016000000004, xmax:442.25024, ymax:480.00000000000006)>)\u001b[0m | \u001b[36micevision.utils.logger_utils\u001b[0m:\u001b[36mautofix_log\u001b[0m:\u001b[36m17\u001b[0m\n",
      "\u001b[32m\u001b[1mAUTOFIX-SUCCESS\u001b[0m\u001b[32m\u001b[0m - \u001b[32m\u001b[1m\u001b[31m(record_id: 32)\u001b[0m\u001b[32m\u001b[1m\u001b[0m\u001b[32m - Clipping bbox xmax from 480.00023999999996 to image width 480 (Before: <BBox (xmin:210.76008, ymin:4.600320000000011, xmax:480.00023999999996, ymax:640.0)>)\u001b[0m | \u001b[36micevision.utils.logger_utils\u001b[0m:\u001b[36mautofix_log\u001b[0m:\u001b[36m17\u001b[0m\n",
      "\u001b[32m\u001b[1mAUTOFIX-SUCCESS\u001b[0m\u001b[32m\u001b[0m - \u001b[32m\u001b[1m\u001b[31m(record_id: 33)\u001b[0m\u001b[32m\u001b[1m\u001b[0m\u001b[32m - Clipping bbox ymax from 640.0003199999999 to image height 640 (Before: <BBox (xmin:11.979912000000013, ymin:315.59007999999994, xmax:361.060098, ymax:640.0003199999999)>)\u001b[0m | \u001b[36micevision.utils.logger_utils\u001b[0m:\u001b[36mautofix_log\u001b[0m:\u001b[36m17\u001b[0m\n",
      "\u001b[32m\u001b[1mAUTOFIX-SUCCESS\u001b[0m\u001b[32m\u001b[0m - \u001b[32m\u001b[1m\u001b[31m(record_id: 38)\u001b[0m\u001b[32m\u001b[1m\u001b[0m\u001b[32m - Clipping bbox xmax from 640.00032 to image width 640 (Before: <BBox (xmin:513.78016, ymin:315.38016, xmax:640.00032, ymax:458.11008)>)\u001b[0m | \u001b[36micevision.utils.logger_utils\u001b[0m:\u001b[36mautofix_log\u001b[0m:\u001b[36m17\u001b[0m\n",
      "\u001b[32m\u001b[1mAUTOFIX-SUCCESS\u001b[0m\u001b[32m\u001b[0m - \u001b[32m\u001b[1m\u001b[31m(record_id: 38)\u001b[0m\u001b[32m\u001b[1m\u001b[0m\u001b[32m - Clipping bbox ymax from 480.00023999999996 to image height 480 (Before: <BBox (xmin:0.0, ymin:41.94023999999999, xmax:640.0, ymax:480.00023999999996)>)\u001b[0m | \u001b[36micevision.utils.logger_utils\u001b[0m:\u001b[36mautofix_log\u001b[0m:\u001b[36m17\u001b[0m\n",
      "\u001b[32m\u001b[1mAUTOFIX-SUCCESS\u001b[0m\u001b[32m\u001b[0m - \u001b[32m\u001b[1m\u001b[31m(record_id: 41)\u001b[0m\u001b[32m\u001b[1m\u001b[0m\u001b[32m - Clipping bbox ymax from 640.0000000000001 to image height 640 (Before: <BBox (xmin:36.10008, ymin:553.7996800000001, xmax:65.99016, ymax:640.0000000000001)>)\u001b[0m | \u001b[36micevision.utils.logger_utils\u001b[0m:\u001b[36mautofix_log\u001b[0m:\u001b[36m17\u001b[0m\n",
      "\u001b[32m\u001b[1mAUTOFIX-SUCCESS\u001b[0m\u001b[32m\u001b[0m - \u001b[32m\u001b[1m\u001b[31m(record_id: 41)\u001b[0m\u001b[32m\u001b[1m\u001b[0m\u001b[32m - Clipping bbox ymax from 640.0000000000001 to image height 640 (Before: <BBox (xmin:0.07967999999999975, ymin:596.4902400000001, xmax:43.41983999999999, ymax:640.0000000000001)>)\u001b[0m | \u001b[36micevision.utils.logger_utils\u001b[0m:\u001b[36mautofix_log\u001b[0m:\u001b[36m17\u001b[0m\n",
      "\u001b[32m\u001b[1mAUTOFIX-SUCCESS\u001b[0m\u001b[32m\u001b[0m - \u001b[32m\u001b[1m\u001b[31m(record_id: 41)\u001b[0m\u001b[32m\u001b[1m\u001b[0m\u001b[32m - Clipping bbox xmax from 480.00023999999996 to image width 480 (Before: <BBox (xmin:395.51016, ymin:337.97984, xmax:480.00023999999996, ymax:568.08992)>)\u001b[0m | \u001b[36micevision.utils.logger_utils\u001b[0m:\u001b[36mautofix_log\u001b[0m:\u001b[36m17\u001b[0m\n",
      "\u001b[32m\u001b[1mAUTOFIX-SUCCESS\u001b[0m\u001b[32m\u001b[0m - \u001b[32m\u001b[1m\u001b[31m(record_id: 44)\u001b[0m\u001b[32m\u001b[1m\u001b[0m\u001b[32m - Clipping bbox ymax from 480.00000000000006 to image height 480 (Before: <BBox (xmin:139.56992000000002, ymin:345.57984000000005, xmax:211.08992, ymax:480.00000000000006)>)\u001b[0m | \u001b[36micevision.utils.logger_utils\u001b[0m:\u001b[36mautofix_log\u001b[0m:\u001b[36m17\u001b[0m\n",
      "\u001b[32m\u001b[1mAUTOFIX-SUCCESS\u001b[0m\u001b[32m\u001b[0m - \u001b[32m\u001b[1m\u001b[31m(record_id: 44)\u001b[0m\u001b[32m\u001b[1m\u001b[0m\u001b[32m - Clipping bbox xmax from 640.0003199999999 to image width 640 (Before: <BBox (xmin:519.9599999999999, ymin:323.80992000000003, xmax:640.0003199999999, ymax:480.00000000000006)>)\u001b[0m | \u001b[36micevision.utils.logger_utils\u001b[0m:\u001b[36mautofix_log\u001b[0m:\u001b[36m17\u001b[0m\n",
      "\u001b[32m\u001b[1mAUTOFIX-SUCCESS\u001b[0m\u001b[32m\u001b[0m - \u001b[32m\u001b[1m\u001b[31m(record_id: 44)\u001b[0m\u001b[32m\u001b[1m\u001b[0m\u001b[32m - Clipping bbox ymax from 480.00000000000006 to image height 480 (Before: <BBox (xmin:519.9599999999999, ymin:323.80992000000003, xmax:640, ymax:480.00000000000006)>)\u001b[0m | \u001b[36micevision.utils.logger_utils\u001b[0m:\u001b[36mautofix_log\u001b[0m:\u001b[36m17\u001b[0m\n",
      "\u001b[32m\u001b[1mAUTOFIX-SUCCESS\u001b[0m\u001b[32m\u001b[0m - \u001b[32m\u001b[1m\u001b[31m(record_id: 46)\u001b[0m\u001b[32m\u001b[1m\u001b[0m\u001b[32m - Clipping bbox xmax from 591.0002955 to image width 591 (Before: <BBox (xmin:156.41021849999996, ymin:169.33024000000006, xmax:591.0002955, ymax:632.8304)>)\u001b[0m | \u001b[36micevision.utils.logger_utils\u001b[0m:\u001b[36mautofix_log\u001b[0m:\u001b[36m17\u001b[0m\n"
     ]
    },
    {
     "name": "stderr",
     "output_type": "stream",
     "text": [
      "\u001b[32m\u001b[1mAUTOFIX-SUCCESS\u001b[0m\u001b[32m\u001b[0m - \u001b[32m\u001b[1m\u001b[31m(record_id: 47)\u001b[0m\u001b[32m\u001b[1m\u001b[0m\u001b[32m - Clipping bbox xmax from 428.000214 to image width 428 (Before: <BBox (xmin:148.650178, ymin:67.01983999999999, xmax:428.000214, ymax:356.0496)>)\u001b[0m | \u001b[36micevision.utils.logger_utils\u001b[0m:\u001b[36mautofix_log\u001b[0m:\u001b[36m17\u001b[0m\n",
      "\u001b[32m\u001b[1mAUTOFIX-SUCCESS\u001b[0m\u001b[32m\u001b[0m - \u001b[32m\u001b[1m\u001b[31m(record_id: 50)\u001b[0m\u001b[32m\u001b[1m\u001b[0m\u001b[32m - Clipping bbox xmin from -0.00031999999999499096 to 0 (Before: <BBox (xmin:-0.00031999999999499096, ymin:236.44980899999996, xmax:119.65984, ymax:421.209843)>)\u001b[0m | \u001b[36micevision.utils.logger_utils\u001b[0m:\u001b[36mautofix_log\u001b[0m:\u001b[36m17\u001b[0m\n",
      "\u001b[32m\u001b[1mAUTOFIX-SUCCESS\u001b[0m\u001b[32m\u001b[0m - \u001b[32m\u001b[1m\u001b[31m(record_id: 53)\u001b[0m\u001b[32m\u001b[1m\u001b[0m\u001b[32m - Clipping bbox xmin from -0.00031999999999854367 to 0 (Before: <BBox (xmin:-0.00031999999999854367, ymin:323.200143, xmax:63.339839999999995, ymax:407.60010900000003)>)\u001b[0m | \u001b[36micevision.utils.logger_utils\u001b[0m:\u001b[36mautofix_log\u001b[0m:\u001b[36m17\u001b[0m\n",
      "\u001b[32m\u001b[1mAUTOFIX-SUCCESS\u001b[0m\u001b[32m\u001b[0m - \u001b[32m\u001b[1m\u001b[31m(record_id: 58)\u001b[0m\u001b[32m\u001b[1m\u001b[0m\u001b[32m - Clipping bbox xmax from 640.0003200000001 to image width 640 (Before: <BBox (xmin:587.38016, ymin:0.0, xmax:640.0003200000001, ymax:149.4)>)\u001b[0m | \u001b[36micevision.utils.logger_utils\u001b[0m:\u001b[36mautofix_log\u001b[0m:\u001b[36m17\u001b[0m\n",
      "\u001b[32m\u001b[1mAUTOFIX-SUCCESS\u001b[0m\u001b[32m\u001b[0m - \u001b[32m\u001b[1m\u001b[31m(record_id: 58)\u001b[0m\u001b[32m\u001b[1m\u001b[0m\u001b[32m - Clipping bbox xmin from -0.00031999999999854367 to 0 (Before: <BBox (xmin:-0.00031999999999854367, ymin:325.40015999999997, xmax:24.93984, ymax:471.27023999999994)>)\u001b[0m | \u001b[36micevision.utils.logger_utils\u001b[0m:\u001b[36mautofix_log\u001b[0m:\u001b[36m17\u001b[0m\n",
      "\u001b[32m\u001b[1mAUTOFIX-SUCCESS\u001b[0m\u001b[32m\u001b[0m - \u001b[32m\u001b[1m\u001b[31m(record_id: 65)\u001b[0m\u001b[32m\u001b[1m\u001b[0m\u001b[32m - Clipping bbox xmax from 480.00023999999996 to image width 480 (Before: <BBox (xmin:90.80999999999995, ymin:24.500159999999937, xmax:480.00023999999996, ymax:640.00032)>)\u001b[0m | \u001b[36micevision.utils.logger_utils\u001b[0m:\u001b[36mautofix_log\u001b[0m:\u001b[36m17\u001b[0m\n",
      "\u001b[32m\u001b[1mAUTOFIX-SUCCESS\u001b[0m\u001b[32m\u001b[0m - \u001b[32m\u001b[1m\u001b[31m(record_id: 65)\u001b[0m\u001b[32m\u001b[1m\u001b[0m\u001b[32m - Clipping bbox ymax from 640.00032 to image height 640 (Before: <BBox (xmin:90.80999999999995, ymin:24.500159999999937, xmax:480, ymax:640.00032)>)\u001b[0m | \u001b[36micevision.utils.logger_utils\u001b[0m:\u001b[36mautofix_log\u001b[0m:\u001b[36m17\u001b[0m\n",
      "\u001b[32m\u001b[1mAUTOFIX-SUCCESS\u001b[0m\u001b[32m\u001b[0m - \u001b[32m\u001b[1m\u001b[31m(record_id: 67)\u001b[0m\u001b[32m\u001b[1m\u001b[0m\u001b[32m - Clipping bbox xmin from -0.0002230000000054133 to 0 (Before: <BBox (xmin:-0.0002230000000054133, ymin:419.70016, xmax:182.499855, ymax:637.97024)>)\u001b[0m | \u001b[36micevision.utils.logger_utils\u001b[0m:\u001b[36mautofix_log\u001b[0m:\u001b[36m17\u001b[0m\n",
      "\u001b[32m\u001b[1mAUTOFIX-SUCCESS\u001b[0m\u001b[32m\u001b[0m - \u001b[32m\u001b[1m\u001b[31m(record_id: 69)\u001b[0m\u001b[32m\u001b[1m\u001b[0m\u001b[32m - Clipping bbox ymax from 480.00023999999996 to image height 480 (Before: <BBox (xmin:467.34015999999997, ymin:292.19016, xmax:565.05024, ymax:480.00023999999996)>)\u001b[0m | \u001b[36micevision.utils.logger_utils\u001b[0m:\u001b[36mautofix_log\u001b[0m:\u001b[36m17\u001b[0m\n",
      "\u001b[32m\u001b[1mAUTOFIX-SUCCESS\u001b[0m\u001b[32m\u001b[0m - \u001b[32m\u001b[1m\u001b[31m(record_id: 69)\u001b[0m\u001b[32m\u001b[1m\u001b[0m\u001b[32m - Clipping bbox xmax from 640.0000000000001 to image width 640 (Before: <BBox (xmin:566.9401600000001, ymin:270.66984, xmax:640.0000000000001, ymax:395.55)>)\u001b[0m | \u001b[36micevision.utils.logger_utils\u001b[0m:\u001b[36mautofix_log\u001b[0m:\u001b[36m17\u001b[0m\n",
      "\u001b[32m\u001b[1mAUTOFIX-SUCCESS\u001b[0m\u001b[32m\u001b[0m - \u001b[32m\u001b[1m\u001b[31m(record_id: 72)\u001b[0m\u001b[32m\u001b[1m\u001b[0m\u001b[32m - Clipping bbox ymin from -0.000240000000005125 to 0 (Before: (<BBox (xmin:3.740159999999989, ymin:-0.000240000000005125, xmax:229.40032000000002, ymax:205.32984)>))\u001b[0m | \u001b[36micevision.utils.logger_utils\u001b[0m:\u001b[36mautofix_log\u001b[0m:\u001b[36m17\u001b[0m\n",
      "\u001b[32m\u001b[1mAUTOFIX-SUCCESS\u001b[0m\u001b[32m\u001b[0m - \u001b[32m\u001b[1m\u001b[31m(record_id: 73)\u001b[0m\u001b[32m\u001b[1m\u001b[0m\u001b[32m - Clipping bbox xmax from 638.000319 to image width 638 (Before: <BBox (xmin:1.4402850000000171, ymin:64.71967999999998, xmax:638.000319, ymax:542.2)>)\u001b[0m | \u001b[36micevision.utils.logger_utils\u001b[0m:\u001b[36mautofix_log\u001b[0m:\u001b[36m17\u001b[0m\n",
      "\u001b[32m\u001b[1mAUTOFIX-SUCCESS\u001b[0m\u001b[32m\u001b[0m - \u001b[32m\u001b[1m\u001b[31m(record_id: 75)\u001b[0m\u001b[32m\u001b[1m\u001b[0m\u001b[32m - Clipping bbox xmin from -0.00017950000000865884 to 0 (Before: <BBox (xmin:-0.00017950000000865884, ymin:257.44031999999993, xmax:122.9598335, ymax:559.06016)>)\u001b[0m | \u001b[36micevision.utils.logger_utils\u001b[0m:\u001b[36mautofix_log\u001b[0m:\u001b[36m17\u001b[0m\n",
      "\u001b[32m\u001b[1mAUTOFIX-SUCCESS\u001b[0m\u001b[32m\u001b[0m - \u001b[32m\u001b[1m\u001b[31m(record_id: 79)\u001b[0m\u001b[32m\u001b[1m\u001b[0m\u001b[32m - Clipping bbox xmax from 427.0002135 to image width 427 (Before: <BBox (xmin:7.21010849999999, ymin:2.8799999999999955, xmax:427.0002135, ymax:628.4697600000001)>)\u001b[0m | \u001b[36micevision.utils.logger_utils\u001b[0m:\u001b[36mautofix_log\u001b[0m:\u001b[36m17\u001b[0m\n",
      "\u001b[32m\u001b[1mAUTOFIX-SUCCESS\u001b[0m\u001b[32m\u001b[0m - \u001b[32m\u001b[1m\u001b[31m(record_id: 82)\u001b[0m\u001b[32m\u001b[1m\u001b[0m\u001b[32m - Clipping bbox xmax from 480.00024 to image width 480 (Before: <BBox (xmin:426.64008, ymin:177.70015999999998, xmax:480.00024, ymax:281.57024)>)\u001b[0m | \u001b[36micevision.utils.logger_utils\u001b[0m:\u001b[36mautofix_log\u001b[0m:\u001b[36m17\u001b[0m\n",
      "\u001b[32m\u001b[1mAUTOFIX-SUCCESS\u001b[0m\u001b[32m\u001b[0m - \u001b[32m\u001b[1m\u001b[31m(record_id: 83)\u001b[0m\u001b[32m\u001b[1m\u001b[0m\u001b[32m - Clipping bbox ymin from -0.000240000000005125 to 0 (Before: (<BBox (xmin:562.0198399999999, ymin:-0.000240000000005125, xmax:639.9999999999999, ymax:192.96983999999998)>))\u001b[0m | \u001b[36micevision.utils.logger_utils\u001b[0m:\u001b[36mautofix_log\u001b[0m:\u001b[36m17\u001b[0m\n",
      "\u001b[32m\u001b[1mAUTOFIX-SUCCESS\u001b[0m\u001b[32m\u001b[0m - \u001b[32m\u001b[1m\u001b[31m(record_id: 95)\u001b[0m\u001b[32m\u001b[1m\u001b[0m\u001b[32m - Clipping bbox xmax from 360.00018 to image width 360 (Before: <BBox (xmin:37.390139999999974, ymin:225.88991999999996, xmax:360.00018, ymax:624.27968)>)\u001b[0m | \u001b[36micevision.utils.logger_utils\u001b[0m:\u001b[36mautofix_log\u001b[0m:\u001b[36m17\u001b[0m\n",
      "\u001b[32m\u001b[1mAUTOFIX-SUCCESS\u001b[0m\u001b[32m\u001b[0m - \u001b[32m\u001b[1m\u001b[31m(record_id: 100)\u001b[0m\u001b[32m\u001b[1m\u001b[0m\u001b[32m - Clipping bbox xmax from 448.000224 to image width 448 (Before: <BBox (xmin:292.86006399999997, ymin:133.949928, xmax:448.000224, ymax:332.219832)>)\u001b[0m | \u001b[36micevision.utils.logger_utils\u001b[0m:\u001b[36mautofix_log\u001b[0m:\u001b[36m17\u001b[0m\n",
      "\u001b[32m\u001b[1mAUTOFIX-SUCCESS\u001b[0m\u001b[32m\u001b[0m - \u001b[32m\u001b[1m\u001b[31m(record_id: 100)\u001b[0m\u001b[32m\u001b[1m\u001b[0m\u001b[32m - Clipping bbox ymax from 336.00016800000003 to image height 336 (Before: <BBox (xmin:0.6798400000000058, ymin:141.91010400000002, xmax:83.159776, ymax:336.00016800000003)>)\u001b[0m | \u001b[36micevision.utils.logger_utils\u001b[0m:\u001b[36mautofix_log\u001b[0m:\u001b[36m17\u001b[0m\n",
      "\u001b[32m\u001b[1mAUTOFIX-SUCCESS\u001b[0m\u001b[32m\u001b[0m - \u001b[32m\u001b[1m\u001b[31m(record_id: 106)\u001b[0m\u001b[32m\u001b[1m\u001b[0m\u001b[32m - Clipping bbox xmax from 520.00026 to image width 520 (Before: <BBox (xmin:430.78022, ymin:203.67967999999996, xmax:520.00026, ymax:297.57984)>)\u001b[0m | \u001b[36micevision.utils.logger_utils\u001b[0m:\u001b[36mautofix_log\u001b[0m:\u001b[36m17\u001b[0m\n",
      "\u001b[32m\u001b[1mAUTOFIX-SUCCESS\u001b[0m\u001b[32m\u001b[0m - \u001b[32m\u001b[1m\u001b[31m(record_id: 124)\u001b[0m\u001b[32m\u001b[1m\u001b[0m\u001b[32m - Clipping bbox xmax from 427.0002135 to image width 427 (Before: <BBox (xmin:338.65007049999997, ymin:0.13983999999999241, xmax:427.0002135, ymax:114.93984)>)\u001b[0m | \u001b[36micevision.utils.logger_utils\u001b[0m:\u001b[36mautofix_log\u001b[0m:\u001b[36m17\u001b[0m\n",
      "/tmp/ipykernel_4558/3512009987.py:1: FutureWarning: Please pass an instantiated object of the `InputTransform` class. Passing the Class and keyword arguments separately has been deprecated since v0.8.0 and will be removed in v0.9.0.\n",
      "  datamodule = ObjectDetectionData.from_coco(\n"
     ]
    }
   ],
   "source": [
    "datamodule = ObjectDetectionData.from_coco(\n",
    "    train_folder=\"coco128/images/train2017/\",\n",
    "    train_ann_file=\"coco128/annotations/instances_train2017.json\",\n",
    "    val_split=0.1,\n",
    "    transform_kwargs={\"image_size\": 512},\n",
    "    batch_size=64,\n",
    ")"
   ]
  },
  {
   "cell_type": "code",
   "execution_count": 6,
   "id": "a743c51c",
   "metadata": {
    "scrolled": true
   },
   "outputs": [
    {
     "name": "stdout",
     "output_type": "stream",
     "text": [
      "efficientdet\n",
      "BACKBONES\n",
      "d0\n",
      "d1\n",
      "d2\n",
      "d3\n",
      "d4\n",
      "d5\n",
      "d6\n",
      "d7\n",
      "d7x\n",
      "tf_d0\n",
      "tf_d0_ap\n",
      "tf_d1\n",
      "tf_d1_ap\n",
      "tf_d2\n",
      "tf_d2_ap\n",
      "tf_d3\n",
      "tf_d3_ap\n",
      "tf_d4\n",
      "tf_d4_ap\n",
      "tf_d5\n",
      "tf_d5_ap\n",
      "tf_d6\n",
      "tf_d7\n",
      "tf_d7x\n",
      "tf_lite0\n",
      "tf_lite1\n",
      "tf_lite2\n",
      "tf_lite3\n",
      "faster_rcnn\n",
      "BACKBONES\n",
      "resnet101_fpn\n",
      "resnet152_fpn\n",
      "resnet18_fpn\n",
      "resnet34_fpn\n",
      "resnet50_fpn\n",
      "resnext101_32x8d_fpn\n",
      "resnext50_32x4d_fpn\n",
      "wide_resnet101_2_fpn\n",
      "wide_resnet50_2_fpn\n",
      "retinanet\n",
      "BACKBONES\n",
      "resnet101_fpn\n",
      "resnet152_fpn\n",
      "resnet18_fpn\n",
      "resnet34_fpn\n",
      "resnet50_fpn\n",
      "resnext101_32x8d_fpn\n",
      "resnext50_32x4d_fpn\n",
      "wide_resnet101_2_fpn\n",
      "wide_resnet50_2_fpn\n",
      "yolov5\n",
      "BACKBONES\n",
      "extra_large\n",
      "extra_large_p6\n",
      "large\n",
      "large_p6\n",
      "medium\n",
      "medium_p6\n",
      "small\n",
      "small_p6\n"
     ]
    }
   ],
   "source": [
    "heads = ObjectDetector.available_heads()\n",
    "\n",
    "# print the heads\n",
    "# print('HEADS',*heads, sep='\\n')\n",
    "# print the backbones\n",
    "for i in heads:\n",
    "    print(i)\n",
    "    backbones = ObjectDetector.available_backbones(i)\n",
    "    print('BACKBONES', *backbones, sep='\\n')"
   ]
  },
  {
   "cell_type": "code",
   "execution_count": 7,
   "id": "c5f5f726",
   "metadata": {},
   "outputs": [],
   "source": [
    "from torchmetrics.detection.mean_ap import MeanAveragePrecision\n",
    "from icevision.all import *\n",
    "\n",
    "metrics = [COCOMetric(metric_type=COCOMetricType.bbox)]"
   ]
  },
  {
   "cell_type": "code",
   "execution_count": 8,
   "id": "da87353a",
   "metadata": {},
   "outputs": [
    {
     "name": "stderr",
     "output_type": "stream",
     "text": [
      "Using 'efficientdet' provided by airctic/IceVision (https://github.com/airctic/icevision) and rwightman/efficientdet-pytorch (https://github.com/rwightman/efficientdet-pytorch).\n"
     ]
    }
   ],
   "source": [
    "model = ObjectDetector(\n",
    "    head='efficientdet',\n",
    "    backbone='d0',\n",
    "    num_classes=datamodule.num_classes,\n",
    "    image_size=512,\n",
    "    optimizer=\"Adam\",\n",
    "    learning_rate=1e-4,\n",
    "    metrics=metrics,\n",
    ")"
   ]
  },
  {
   "cell_type": "code",
   "execution_count": 9,
   "id": "6c27b8de",
   "metadata": {},
   "outputs": [
    {
     "name": "stderr",
     "output_type": "stream",
     "text": [
      "Using 16bit None Automatic Mixed Precision (AMP)\n",
      "GPU available: True (cuda), used: True\n",
      "TPU available: False, using: 0 TPU cores\n",
      "IPU available: False, using: 0 IPUs\n",
      "HPU available: False, using: 0 HPUs\n",
      "LOCAL_RANK: 0 - CUDA_VISIBLE_DEVICES: [0]\n",
      "\n",
      "  | Name          | Type                            | Params\n",
      "------------------------------------------------------------------\n",
      "0 | train_metrics | ModuleDict                      | 0     \n",
      "1 | val_metrics   | ModuleDict                      | 0     \n",
      "2 | test_metrics  | ModuleDict                      | 0     \n",
      "3 | adapter       | IceVisionObjectDetectionAdapter | 3.9 M \n",
      "------------------------------------------------------------------\n",
      "88.0 K    Trainable params\n",
      "3.8 M     Non-trainable params\n",
      "3.9 M     Total params\n",
      "7.756     Total estimated model params size (MB)\n"
     ]
    },
    {
     "data": {
      "application/vnd.jupyter.widget-view+json": {
       "model_id": "",
       "version_major": 2,
       "version_minor": 0
      },
      "text/plain": [
       "Sanity Checking: 0it [00:00, ?it/s]"
      ]
     },
     "metadata": {},
     "output_type": "display_data"
    },
    {
     "name": "stderr",
     "output_type": "stream",
     "text": [
      "/home/demontego/miniconda3/envs/sbercluod/lib/python3.9/site-packages/pytorch_lightning/trainer/connectors/data_connector.py:224: PossibleUserWarning: The dataloader, val_dataloader 0, does not have many workers which may be a bottleneck. Consider increasing the value of the `num_workers` argument` (try 6 which is the number of cpus on this machine) in the `DataLoader` init to improve performance.\n",
      "  rank_zero_warn(\n",
      "/home/demontego/miniconda3/envs/sbercluod/lib/python3.9/site-packages/effdet/bench.py:45: UserWarning: __floordiv__ is deprecated, and its behavior will change in a future version of pytorch. It currently rounds toward 0 (like the 'trunc' function NOT 'floor'). This results in incorrect rounding for negative values. To keep the current behavior, use torch.div(a, b, rounding_mode='trunc'), or for actual floor division, use torch.div(a, b, rounding_mode='floor').\n",
      "  indices_all = cls_topk_indices_all // num_classes\n",
      "/home/demontego/miniconda3/envs/sbercluod/lib/python3.9/site-packages/pytorch_lightning/utilities/data.py:84: UserWarning: Trying to infer the `batch_size` from an ambiguous collection. The batch size we found is 12. To avoid any miscalculations, use `self.log(..., batch_size=batch_size)`.\n",
      "  warning_cache.warn(\n",
      "/home/demontego/miniconda3/envs/sbercluod/lib/python3.9/site-packages/pytorch_lightning/trainer/connectors/data_connector.py:224: PossibleUserWarning: The dataloader, train_dataloader, does not have many workers which may be a bottleneck. Consider increasing the value of the `num_workers` argument` (try 6 which is the number of cpus on this machine) in the `DataLoader` init to improve performance.\n",
      "  rank_zero_warn(\n",
      "/home/demontego/miniconda3/envs/sbercluod/lib/python3.9/site-packages/pytorch_lightning/trainer/trainer.py:1600: PossibleUserWarning: The number of training batches (1) is smaller than the logging interval Trainer(log_every_n_steps=50). Set a lower value for log_every_n_steps if you want to see logs for the training epoch.\n",
      "  rank_zero_warn(\n"
     ]
    },
    {
     "data": {
      "application/vnd.jupyter.widget-view+json": {
       "model_id": "7b497203e439402b8f24865ac449f22d",
       "version_major": 2,
       "version_minor": 0
      },
      "text/plain": [
       "Training: 0it [00:00, ?it/s]"
      ]
     },
     "metadata": {},
     "output_type": "display_data"
    },
    {
     "data": {
      "application/vnd.jupyter.widget-view+json": {
       "model_id": "",
       "version_major": 2,
       "version_minor": 0
      },
      "text/plain": [
       "Validation: 0it [00:00, ?it/s]"
      ]
     },
     "metadata": {},
     "output_type": "display_data"
    },
    {
     "data": {
      "application/vnd.jupyter.widget-view+json": {
       "model_id": "",
       "version_major": 2,
       "version_minor": 0
      },
      "text/plain": [
       "Validation: 0it [00:00, ?it/s]"
      ]
     },
     "metadata": {},
     "output_type": "display_data"
    },
    {
     "data": {
      "application/vnd.jupyter.widget-view+json": {
       "model_id": "",
       "version_major": 2,
       "version_minor": 0
      },
      "text/plain": [
       "Validation: 0it [00:00, ?it/s]"
      ]
     },
     "metadata": {},
     "output_type": "display_data"
    },
    {
     "name": "stderr",
     "output_type": "stream",
     "text": [
      "`Trainer.fit` stopped: `max_epochs=3` reached.\n"
     ]
    }
   ],
   "source": [
    "trainer = flash.Trainer(max_epochs=3, accelerator='gpu', devices=1, precision=16)\n",
    "trainer.finetune(model, datamodule=datamodule, strategy=\"freeze\")"
   ]
  },
  {
   "cell_type": "code",
   "execution_count": 10,
   "id": "078128ec",
   "metadata": {},
   "outputs": [],
   "source": [
    "trainer.save_checkpoint(\"object_detection_model_1epoch.pt\")"
   ]
  },
  {
   "cell_type": "code",
   "execution_count": 118,
   "id": "10f76c8e",
   "metadata": {},
   "outputs": [
    {
     "name": "stderr",
     "output_type": "stream",
     "text": [
      "LOCAL_RANK: 0 - CUDA_VISIBLE_DEVICES: [0]\n"
     ]
    },
    {
     "data": {
      "application/vnd.jupyter.widget-view+json": {
       "model_id": "200c06b74a7143eb9ec6d1441cd104f1",
       "version_major": 2,
       "version_minor": 0
      },
      "text/plain": [
       "Predicting: 1it [00:00, ?it/s]"
      ]
     },
     "metadata": {},
     "output_type": "display_data"
    },
    {
     "name": "stdout",
     "output_type": "stream",
     "text": [
      "[[{<DataKeys.INPUT: 'input'>: {<DataKeys.METADATA: 'metadata'>: {'size': (224, 224), 'output_size': (512, 512), 'filepath': Path('/home/demontego/miniconda3/envs/sbercluod/lib/python3.9/site-packages/flash/assets/fish.jpg')}, <DataKeys.INPUT: 'input'>: Path('/home/demontego/miniconda3/envs/sbercluod/lib/python3.9/site-packages/flash/assets/fish.jpg'), <DataKeys.TARGET: 'target'>: {}}, <DataKeys.PREDS: 'preds'>: {'bboxes': [], 'labels': [], 'scores': []}, <DataKeys.METADATA: 'metadata'>: {'size': [224, 224], 'output_size': [512, 512], 'filepath': Path('/home/demontego/miniconda3/envs/sbercluod/lib/python3.9/site-packages/flash/assets/fish.jpg')}}, {<DataKeys.INPUT: 'input'>: {<DataKeys.METADATA: 'metadata'>: {'size': (480, 640), 'output_size': (512, 512), 'filepath': 'coco128/images/train2017/000000000626.jpg'}, <DataKeys.INPUT: 'input'>: 'coco128/images/train2017/000000000626.jpg', <DataKeys.TARGET: 'target'>: {}}, <DataKeys.PREDS: 'preds'>: {'bboxes': [{'xmin': 249.1985, 'ymin': 160.22046, 'width': 34.423325, 'height': 37.936035}, {'xmin': 318.88953, 'ymin': 167.79655, 'width': 15.65686, 'height': 36.685394}], 'labels': [85, 85], 'scores': [0.84472656, 0.68066406]}, <DataKeys.METADATA: 'metadata'>: {'size': [480, 640], 'output_size': [512, 512], 'filepath': 'coco128/images/train2017/000000000626.jpg'}}, {<DataKeys.INPUT: 'input'>: {<DataKeys.METADATA: 'metadata'>: {'size': (427, 640), 'output_size': (512, 512), 'filepath': 'coco128/images/train2017/000000000629.jpg'}, <DataKeys.INPUT: 'input'>: 'coco128/images/train2017/000000000629.jpg', <DataKeys.TARGET: 'target'>: {}}, <DataKeys.PREDS: 'preds'>: {'bboxes': [{'xmin': 255.15305, 'ymin': 282.3718, 'width': 199.55249, 'height': 132.0611}], 'labels': [4], 'scores': [0.85839844]}, <DataKeys.METADATA: 'metadata'>: {'size': [427, 640], 'output_size': [512, 512], 'filepath': 'coco128/images/train2017/000000000629.jpg'}}]]\n"
     ]
    }
   ],
   "source": [
    "datamodule = ObjectDetectionData.from_files(\n",
    "    predict_files=[\n",
    "        Path(flash.ASSETS_ROOT) / \"fish.jpg\",\n",
    "        \"coco128/images/train2017/000000000626.jpg\",\n",
    "        \"coco128/images/train2017/000000000629.jpg\",\n",
    "    ],\n",
    "    transform_kwargs={\"image_size\": 512},\n",
    "    batch_size=4,\n",
    ")\n",
    "predictions = trainer.predict(model, datamodule=datamodule)\n",
    "print(predictions)"
   ]
  },
  {
   "cell_type": "code",
   "execution_count": 1,
   "id": "e238d0cf",
   "metadata": {},
   "outputs": [
    {
     "ename": "ConnectionError",
     "evalue": "HTTPConnectionPool(host='127.0.0.1', port=8000): Max retries exceeded with url: /predict (Caused by NewConnectionError('<urllib3.connection.HTTPConnection object at 0x7fe0802b1af0>: Failed to establish a new connection: [Errno 111] Connection refused'))",
     "output_type": "error",
     "traceback": [
      "\u001b[0;31m---------------------------------------------------------------------------\u001b[0m",
      "\u001b[0;31mConnectionRefusedError\u001b[0m                    Traceback (most recent call last)",
      "File \u001b[0;32m~/miniconda3/envs/sbercluod/lib/python3.9/site-packages/urllib3/connection.py:174\u001b[0m, in \u001b[0;36mHTTPConnection._new_conn\u001b[0;34m(self)\u001b[0m\n\u001b[1;32m    173\u001b[0m \u001b[39mtry\u001b[39;00m:\n\u001b[0;32m--> 174\u001b[0m     conn \u001b[39m=\u001b[39m connection\u001b[39m.\u001b[39;49mcreate_connection(\n\u001b[1;32m    175\u001b[0m         (\u001b[39mself\u001b[39;49m\u001b[39m.\u001b[39;49m_dns_host, \u001b[39mself\u001b[39;49m\u001b[39m.\u001b[39;49mport), \u001b[39mself\u001b[39;49m\u001b[39m.\u001b[39;49mtimeout, \u001b[39m*\u001b[39;49m\u001b[39m*\u001b[39;49mextra_kw\n\u001b[1;32m    176\u001b[0m     )\n\u001b[1;32m    178\u001b[0m \u001b[39mexcept\u001b[39;00m SocketTimeout:\n",
      "File \u001b[0;32m~/miniconda3/envs/sbercluod/lib/python3.9/site-packages/urllib3/util/connection.py:95\u001b[0m, in \u001b[0;36mcreate_connection\u001b[0;34m(address, timeout, source_address, socket_options)\u001b[0m\n\u001b[1;32m     94\u001b[0m \u001b[39mif\u001b[39;00m err \u001b[39mis\u001b[39;00m \u001b[39mnot\u001b[39;00m \u001b[39mNone\u001b[39;00m:\n\u001b[0;32m---> 95\u001b[0m     \u001b[39mraise\u001b[39;00m err\n\u001b[1;32m     97\u001b[0m \u001b[39mraise\u001b[39;00m socket\u001b[39m.\u001b[39merror(\u001b[39m\"\u001b[39m\u001b[39mgetaddrinfo returns an empty list\u001b[39m\u001b[39m\"\u001b[39m)\n",
      "File \u001b[0;32m~/miniconda3/envs/sbercluod/lib/python3.9/site-packages/urllib3/util/connection.py:85\u001b[0m, in \u001b[0;36mcreate_connection\u001b[0;34m(address, timeout, source_address, socket_options)\u001b[0m\n\u001b[1;32m     84\u001b[0m     sock\u001b[39m.\u001b[39mbind(source_address)\n\u001b[0;32m---> 85\u001b[0m sock\u001b[39m.\u001b[39;49mconnect(sa)\n\u001b[1;32m     86\u001b[0m \u001b[39mreturn\u001b[39;00m sock\n",
      "\u001b[0;31mConnectionRefusedError\u001b[0m: [Errno 111] Connection refused",
      "\nDuring handling of the above exception, another exception occurred:\n",
      "\u001b[0;31mNewConnectionError\u001b[0m                        Traceback (most recent call last)",
      "File \u001b[0;32m~/miniconda3/envs/sbercluod/lib/python3.9/site-packages/urllib3/connectionpool.py:703\u001b[0m, in \u001b[0;36mHTTPConnectionPool.urlopen\u001b[0;34m(self, method, url, body, headers, retries, redirect, assert_same_host, timeout, pool_timeout, release_conn, chunked, body_pos, **response_kw)\u001b[0m\n\u001b[1;32m    702\u001b[0m \u001b[39m# Make the request on the httplib connection object.\u001b[39;00m\n\u001b[0;32m--> 703\u001b[0m httplib_response \u001b[39m=\u001b[39m \u001b[39mself\u001b[39;49m\u001b[39m.\u001b[39;49m_make_request(\n\u001b[1;32m    704\u001b[0m     conn,\n\u001b[1;32m    705\u001b[0m     method,\n\u001b[1;32m    706\u001b[0m     url,\n\u001b[1;32m    707\u001b[0m     timeout\u001b[39m=\u001b[39;49mtimeout_obj,\n\u001b[1;32m    708\u001b[0m     body\u001b[39m=\u001b[39;49mbody,\n\u001b[1;32m    709\u001b[0m     headers\u001b[39m=\u001b[39;49mheaders,\n\u001b[1;32m    710\u001b[0m     chunked\u001b[39m=\u001b[39;49mchunked,\n\u001b[1;32m    711\u001b[0m )\n\u001b[1;32m    713\u001b[0m \u001b[39m# If we're going to release the connection in ``finally:``, then\u001b[39;00m\n\u001b[1;32m    714\u001b[0m \u001b[39m# the response doesn't need to know about the connection. Otherwise\u001b[39;00m\n\u001b[1;32m    715\u001b[0m \u001b[39m# it will also try to release it and we'll have a double-release\u001b[39;00m\n\u001b[1;32m    716\u001b[0m \u001b[39m# mess.\u001b[39;00m\n",
      "File \u001b[0;32m~/miniconda3/envs/sbercluod/lib/python3.9/site-packages/urllib3/connectionpool.py:398\u001b[0m, in \u001b[0;36mHTTPConnectionPool._make_request\u001b[0;34m(self, conn, method, url, timeout, chunked, **httplib_request_kw)\u001b[0m\n\u001b[1;32m    397\u001b[0m     \u001b[39melse\u001b[39;00m:\n\u001b[0;32m--> 398\u001b[0m         conn\u001b[39m.\u001b[39;49mrequest(method, url, \u001b[39m*\u001b[39;49m\u001b[39m*\u001b[39;49mhttplib_request_kw)\n\u001b[1;32m    400\u001b[0m \u001b[39m# We are swallowing BrokenPipeError (errno.EPIPE) since the server is\u001b[39;00m\n\u001b[1;32m    401\u001b[0m \u001b[39m# legitimately able to close the connection after sending a valid response.\u001b[39;00m\n\u001b[1;32m    402\u001b[0m \u001b[39m# With this behaviour, the received response is still readable.\u001b[39;00m\n",
      "File \u001b[0;32m~/miniconda3/envs/sbercluod/lib/python3.9/site-packages/urllib3/connection.py:239\u001b[0m, in \u001b[0;36mHTTPConnection.request\u001b[0;34m(self, method, url, body, headers)\u001b[0m\n\u001b[1;32m    238\u001b[0m     headers[\u001b[39m\"\u001b[39m\u001b[39mUser-Agent\u001b[39m\u001b[39m\"\u001b[39m] \u001b[39m=\u001b[39m _get_default_user_agent()\n\u001b[0;32m--> 239\u001b[0m \u001b[39msuper\u001b[39;49m(HTTPConnection, \u001b[39mself\u001b[39;49m)\u001b[39m.\u001b[39;49mrequest(method, url, body\u001b[39m=\u001b[39;49mbody, headers\u001b[39m=\u001b[39;49mheaders)\n",
      "File \u001b[0;32m~/miniconda3/envs/sbercluod/lib/python3.9/http/client.py:1285\u001b[0m, in \u001b[0;36mHTTPConnection.request\u001b[0;34m(self, method, url, body, headers, encode_chunked)\u001b[0m\n\u001b[1;32m   1284\u001b[0m \u001b[39m\"\"\"Send a complete request to the server.\"\"\"\u001b[39;00m\n\u001b[0;32m-> 1285\u001b[0m \u001b[39mself\u001b[39;49m\u001b[39m.\u001b[39;49m_send_request(method, url, body, headers, encode_chunked)\n",
      "File \u001b[0;32m~/miniconda3/envs/sbercluod/lib/python3.9/http/client.py:1331\u001b[0m, in \u001b[0;36mHTTPConnection._send_request\u001b[0;34m(self, method, url, body, headers, encode_chunked)\u001b[0m\n\u001b[1;32m   1330\u001b[0m     body \u001b[39m=\u001b[39m _encode(body, \u001b[39m'\u001b[39m\u001b[39mbody\u001b[39m\u001b[39m'\u001b[39m)\n\u001b[0;32m-> 1331\u001b[0m \u001b[39mself\u001b[39;49m\u001b[39m.\u001b[39;49mendheaders(body, encode_chunked\u001b[39m=\u001b[39;49mencode_chunked)\n",
      "File \u001b[0;32m~/miniconda3/envs/sbercluod/lib/python3.9/http/client.py:1280\u001b[0m, in \u001b[0;36mHTTPConnection.endheaders\u001b[0;34m(self, message_body, encode_chunked)\u001b[0m\n\u001b[1;32m   1279\u001b[0m     \u001b[39mraise\u001b[39;00m CannotSendHeader()\n\u001b[0;32m-> 1280\u001b[0m \u001b[39mself\u001b[39;49m\u001b[39m.\u001b[39;49m_send_output(message_body, encode_chunked\u001b[39m=\u001b[39;49mencode_chunked)\n",
      "File \u001b[0;32m~/miniconda3/envs/sbercluod/lib/python3.9/http/client.py:1040\u001b[0m, in \u001b[0;36mHTTPConnection._send_output\u001b[0;34m(self, message_body, encode_chunked)\u001b[0m\n\u001b[1;32m   1039\u001b[0m \u001b[39mdel\u001b[39;00m \u001b[39mself\u001b[39m\u001b[39m.\u001b[39m_buffer[:]\n\u001b[0;32m-> 1040\u001b[0m \u001b[39mself\u001b[39;49m\u001b[39m.\u001b[39;49msend(msg)\n\u001b[1;32m   1042\u001b[0m \u001b[39mif\u001b[39;00m message_body \u001b[39mis\u001b[39;00m \u001b[39mnot\u001b[39;00m \u001b[39mNone\u001b[39;00m:\n\u001b[1;32m   1043\u001b[0m \n\u001b[1;32m   1044\u001b[0m     \u001b[39m# create a consistent interface to message_body\u001b[39;00m\n",
      "File \u001b[0;32m~/miniconda3/envs/sbercluod/lib/python3.9/http/client.py:980\u001b[0m, in \u001b[0;36mHTTPConnection.send\u001b[0;34m(self, data)\u001b[0m\n\u001b[1;32m    979\u001b[0m \u001b[39mif\u001b[39;00m \u001b[39mself\u001b[39m\u001b[39m.\u001b[39mauto_open:\n\u001b[0;32m--> 980\u001b[0m     \u001b[39mself\u001b[39;49m\u001b[39m.\u001b[39;49mconnect()\n\u001b[1;32m    981\u001b[0m \u001b[39melse\u001b[39;00m:\n",
      "File \u001b[0;32m~/miniconda3/envs/sbercluod/lib/python3.9/site-packages/urllib3/connection.py:205\u001b[0m, in \u001b[0;36mHTTPConnection.connect\u001b[0;34m(self)\u001b[0m\n\u001b[1;32m    204\u001b[0m \u001b[39mdef\u001b[39;00m \u001b[39mconnect\u001b[39m(\u001b[39mself\u001b[39m):\n\u001b[0;32m--> 205\u001b[0m     conn \u001b[39m=\u001b[39m \u001b[39mself\u001b[39;49m\u001b[39m.\u001b[39;49m_new_conn()\n\u001b[1;32m    206\u001b[0m     \u001b[39mself\u001b[39m\u001b[39m.\u001b[39m_prepare_conn(conn)\n",
      "File \u001b[0;32m~/miniconda3/envs/sbercluod/lib/python3.9/site-packages/urllib3/connection.py:186\u001b[0m, in \u001b[0;36mHTTPConnection._new_conn\u001b[0;34m(self)\u001b[0m\n\u001b[1;32m    185\u001b[0m \u001b[39mexcept\u001b[39;00m SocketError \u001b[39mas\u001b[39;00m e:\n\u001b[0;32m--> 186\u001b[0m     \u001b[39mraise\u001b[39;00m NewConnectionError(\n\u001b[1;32m    187\u001b[0m         \u001b[39mself\u001b[39m, \u001b[39m\"\u001b[39m\u001b[39mFailed to establish a new connection: \u001b[39m\u001b[39m%s\u001b[39;00m\u001b[39m\"\u001b[39m \u001b[39m%\u001b[39m e\n\u001b[1;32m    188\u001b[0m     )\n\u001b[1;32m    190\u001b[0m \u001b[39mreturn\u001b[39;00m conn\n",
      "\u001b[0;31mNewConnectionError\u001b[0m: <urllib3.connection.HTTPConnection object at 0x7fe0802b1af0>: Failed to establish a new connection: [Errno 111] Connection refused",
      "\nDuring handling of the above exception, another exception occurred:\n",
      "\u001b[0;31mMaxRetryError\u001b[0m                             Traceback (most recent call last)",
      "File \u001b[0;32m~/miniconda3/envs/sbercluod/lib/python3.9/site-packages/requests/adapters.py:489\u001b[0m, in \u001b[0;36mHTTPAdapter.send\u001b[0;34m(self, request, stream, timeout, verify, cert, proxies)\u001b[0m\n\u001b[1;32m    488\u001b[0m \u001b[39mif\u001b[39;00m \u001b[39mnot\u001b[39;00m chunked:\n\u001b[0;32m--> 489\u001b[0m     resp \u001b[39m=\u001b[39m conn\u001b[39m.\u001b[39;49murlopen(\n\u001b[1;32m    490\u001b[0m         method\u001b[39m=\u001b[39;49mrequest\u001b[39m.\u001b[39;49mmethod,\n\u001b[1;32m    491\u001b[0m         url\u001b[39m=\u001b[39;49murl,\n\u001b[1;32m    492\u001b[0m         body\u001b[39m=\u001b[39;49mrequest\u001b[39m.\u001b[39;49mbody,\n\u001b[1;32m    493\u001b[0m         headers\u001b[39m=\u001b[39;49mrequest\u001b[39m.\u001b[39;49mheaders,\n\u001b[1;32m    494\u001b[0m         redirect\u001b[39m=\u001b[39;49m\u001b[39mFalse\u001b[39;49;00m,\n\u001b[1;32m    495\u001b[0m         assert_same_host\u001b[39m=\u001b[39;49m\u001b[39mFalse\u001b[39;49;00m,\n\u001b[1;32m    496\u001b[0m         preload_content\u001b[39m=\u001b[39;49m\u001b[39mFalse\u001b[39;49;00m,\n\u001b[1;32m    497\u001b[0m         decode_content\u001b[39m=\u001b[39;49m\u001b[39mFalse\u001b[39;49;00m,\n\u001b[1;32m    498\u001b[0m         retries\u001b[39m=\u001b[39;49m\u001b[39mself\u001b[39;49m\u001b[39m.\u001b[39;49mmax_retries,\n\u001b[1;32m    499\u001b[0m         timeout\u001b[39m=\u001b[39;49mtimeout,\n\u001b[1;32m    500\u001b[0m     )\n\u001b[1;32m    502\u001b[0m \u001b[39m# Send the request.\u001b[39;00m\n\u001b[1;32m    503\u001b[0m \u001b[39melse\u001b[39;00m:\n",
      "File \u001b[0;32m~/miniconda3/envs/sbercluod/lib/python3.9/site-packages/urllib3/connectionpool.py:787\u001b[0m, in \u001b[0;36mHTTPConnectionPool.urlopen\u001b[0;34m(self, method, url, body, headers, retries, redirect, assert_same_host, timeout, pool_timeout, release_conn, chunked, body_pos, **response_kw)\u001b[0m\n\u001b[1;32m    785\u001b[0m     e \u001b[39m=\u001b[39m ProtocolError(\u001b[39m\"\u001b[39m\u001b[39mConnection aborted.\u001b[39m\u001b[39m\"\u001b[39m, e)\n\u001b[0;32m--> 787\u001b[0m retries \u001b[39m=\u001b[39m retries\u001b[39m.\u001b[39;49mincrement(\n\u001b[1;32m    788\u001b[0m     method, url, error\u001b[39m=\u001b[39;49me, _pool\u001b[39m=\u001b[39;49m\u001b[39mself\u001b[39;49m, _stacktrace\u001b[39m=\u001b[39;49msys\u001b[39m.\u001b[39;49mexc_info()[\u001b[39m2\u001b[39;49m]\n\u001b[1;32m    789\u001b[0m )\n\u001b[1;32m    790\u001b[0m retries\u001b[39m.\u001b[39msleep()\n",
      "File \u001b[0;32m~/miniconda3/envs/sbercluod/lib/python3.9/site-packages/urllib3/util/retry.py:592\u001b[0m, in \u001b[0;36mRetry.increment\u001b[0;34m(self, method, url, response, error, _pool, _stacktrace)\u001b[0m\n\u001b[1;32m    591\u001b[0m \u001b[39mif\u001b[39;00m new_retry\u001b[39m.\u001b[39mis_exhausted():\n\u001b[0;32m--> 592\u001b[0m     \u001b[39mraise\u001b[39;00m MaxRetryError(_pool, url, error \u001b[39mor\u001b[39;00m ResponseError(cause))\n\u001b[1;32m    594\u001b[0m log\u001b[39m.\u001b[39mdebug(\u001b[39m\"\u001b[39m\u001b[39mIncremented Retry for (url=\u001b[39m\u001b[39m'\u001b[39m\u001b[39m%s\u001b[39;00m\u001b[39m'\u001b[39m\u001b[39m): \u001b[39m\u001b[39m%r\u001b[39;00m\u001b[39m\"\u001b[39m, url, new_retry)\n",
      "\u001b[0;31mMaxRetryError\u001b[0m: HTTPConnectionPool(host='127.0.0.1', port=8000): Max retries exceeded with url: /predict (Caused by NewConnectionError('<urllib3.connection.HTTPConnection object at 0x7fe0802b1af0>: Failed to establish a new connection: [Errno 111] Connection refused'))",
      "\nDuring handling of the above exception, another exception occurred:\n",
      "\u001b[0;31mConnectionError\u001b[0m                           Traceback (most recent call last)",
      "Cell \u001b[0;32mIn[1], line 10\u001b[0m\n\u001b[1;32m      7\u001b[0m     imgstr \u001b[39m=\u001b[39m base64\u001b[39m.\u001b[39mb64encode(f\u001b[39m.\u001b[39mread())\u001b[39m.\u001b[39mdecode(\u001b[39m\"\u001b[39m\u001b[39mUTF-8\u001b[39m\u001b[39m\"\u001b[39m)\n\u001b[1;32m      9\u001b[0m body \u001b[39m=\u001b[39m {\u001b[39m\"\u001b[39m\u001b[39msession\u001b[39m\u001b[39m\"\u001b[39m: \u001b[39m\"\u001b[39m\u001b[39mUUID\u001b[39m\u001b[39m\"\u001b[39m, \u001b[39m\"\u001b[39m\u001b[39mpayload\u001b[39m\u001b[39m\"\u001b[39m: {\u001b[39m'\u001b[39m\u001b[39minputs\u001b[39m\u001b[39m'\u001b[39m: {\u001b[39m'\u001b[39m\u001b[39mdata\u001b[39m\u001b[39m'\u001b[39m: imgstr}}}\n\u001b[0;32m---> 10\u001b[0m resp \u001b[39m=\u001b[39m requests\u001b[39m.\u001b[39;49mpost(\u001b[39m\"\u001b[39;49m\u001b[39mhttp://127.0.0.1:8000/predict\u001b[39;49m\u001b[39m\"\u001b[39;49m, json\u001b[39m=\u001b[39;49mbody)\n\u001b[1;32m     11\u001b[0m \u001b[39mprint\u001b[39m(resp)\n",
      "File \u001b[0;32m~/miniconda3/envs/sbercluod/lib/python3.9/site-packages/requests/api.py:115\u001b[0m, in \u001b[0;36mpost\u001b[0;34m(url, data, json, **kwargs)\u001b[0m\n\u001b[1;32m    103\u001b[0m \u001b[39mdef\u001b[39;00m \u001b[39mpost\u001b[39m(url, data\u001b[39m=\u001b[39m\u001b[39mNone\u001b[39;00m, json\u001b[39m=\u001b[39m\u001b[39mNone\u001b[39;00m, \u001b[39m*\u001b[39m\u001b[39m*\u001b[39mkwargs):\n\u001b[1;32m    104\u001b[0m     \u001b[39mr\u001b[39m\u001b[39m\"\"\"Sends a POST request.\u001b[39;00m\n\u001b[1;32m    105\u001b[0m \n\u001b[1;32m    106\u001b[0m \u001b[39m    :param url: URL for the new :class:`Request` object.\u001b[39;00m\n\u001b[0;32m   (...)\u001b[0m\n\u001b[1;32m    112\u001b[0m \u001b[39m    :rtype: requests.Response\u001b[39;00m\n\u001b[1;32m    113\u001b[0m \u001b[39m    \"\"\"\u001b[39;00m\n\u001b[0;32m--> 115\u001b[0m     \u001b[39mreturn\u001b[39;00m request(\u001b[39m\"\u001b[39;49m\u001b[39mpost\u001b[39;49m\u001b[39m\"\u001b[39;49m, url, data\u001b[39m=\u001b[39;49mdata, json\u001b[39m=\u001b[39;49mjson, \u001b[39m*\u001b[39;49m\u001b[39m*\u001b[39;49mkwargs)\n",
      "File \u001b[0;32m~/miniconda3/envs/sbercluod/lib/python3.9/site-packages/requests/api.py:59\u001b[0m, in \u001b[0;36mrequest\u001b[0;34m(method, url, **kwargs)\u001b[0m\n\u001b[1;32m     55\u001b[0m \u001b[39m# By using the 'with' statement we are sure the session is closed, thus we\u001b[39;00m\n\u001b[1;32m     56\u001b[0m \u001b[39m# avoid leaving sockets open which can trigger a ResourceWarning in some\u001b[39;00m\n\u001b[1;32m     57\u001b[0m \u001b[39m# cases, and look like a memory leak in others.\u001b[39;00m\n\u001b[1;32m     58\u001b[0m \u001b[39mwith\u001b[39;00m sessions\u001b[39m.\u001b[39mSession() \u001b[39mas\u001b[39;00m session:\n\u001b[0;32m---> 59\u001b[0m     \u001b[39mreturn\u001b[39;00m session\u001b[39m.\u001b[39;49mrequest(method\u001b[39m=\u001b[39;49mmethod, url\u001b[39m=\u001b[39;49murl, \u001b[39m*\u001b[39;49m\u001b[39m*\u001b[39;49mkwargs)\n",
      "File \u001b[0;32m~/miniconda3/envs/sbercluod/lib/python3.9/site-packages/requests/sessions.py:587\u001b[0m, in \u001b[0;36mSession.request\u001b[0;34m(self, method, url, params, data, headers, cookies, files, auth, timeout, allow_redirects, proxies, hooks, stream, verify, cert, json)\u001b[0m\n\u001b[1;32m    582\u001b[0m send_kwargs \u001b[39m=\u001b[39m {\n\u001b[1;32m    583\u001b[0m     \u001b[39m\"\u001b[39m\u001b[39mtimeout\u001b[39m\u001b[39m\"\u001b[39m: timeout,\n\u001b[1;32m    584\u001b[0m     \u001b[39m\"\u001b[39m\u001b[39mallow_redirects\u001b[39m\u001b[39m\"\u001b[39m: allow_redirects,\n\u001b[1;32m    585\u001b[0m }\n\u001b[1;32m    586\u001b[0m send_kwargs\u001b[39m.\u001b[39mupdate(settings)\n\u001b[0;32m--> 587\u001b[0m resp \u001b[39m=\u001b[39m \u001b[39mself\u001b[39;49m\u001b[39m.\u001b[39;49msend(prep, \u001b[39m*\u001b[39;49m\u001b[39m*\u001b[39;49msend_kwargs)\n\u001b[1;32m    589\u001b[0m \u001b[39mreturn\u001b[39;00m resp\n",
      "File \u001b[0;32m~/miniconda3/envs/sbercluod/lib/python3.9/site-packages/requests/sessions.py:701\u001b[0m, in \u001b[0;36mSession.send\u001b[0;34m(self, request, **kwargs)\u001b[0m\n\u001b[1;32m    698\u001b[0m start \u001b[39m=\u001b[39m preferred_clock()\n\u001b[1;32m    700\u001b[0m \u001b[39m# Send the request\u001b[39;00m\n\u001b[0;32m--> 701\u001b[0m r \u001b[39m=\u001b[39m adapter\u001b[39m.\u001b[39;49msend(request, \u001b[39m*\u001b[39;49m\u001b[39m*\u001b[39;49mkwargs)\n\u001b[1;32m    703\u001b[0m \u001b[39m# Total elapsed time of the request (approximately)\u001b[39;00m\n\u001b[1;32m    704\u001b[0m elapsed \u001b[39m=\u001b[39m preferred_clock() \u001b[39m-\u001b[39m start\n",
      "File \u001b[0;32m~/miniconda3/envs/sbercluod/lib/python3.9/site-packages/requests/adapters.py:565\u001b[0m, in \u001b[0;36mHTTPAdapter.send\u001b[0;34m(self, request, stream, timeout, verify, cert, proxies)\u001b[0m\n\u001b[1;32m    561\u001b[0m     \u001b[39mif\u001b[39;00m \u001b[39misinstance\u001b[39m(e\u001b[39m.\u001b[39mreason, _SSLError):\n\u001b[1;32m    562\u001b[0m         \u001b[39m# This branch is for urllib3 v1.22 and later.\u001b[39;00m\n\u001b[1;32m    563\u001b[0m         \u001b[39mraise\u001b[39;00m SSLError(e, request\u001b[39m=\u001b[39mrequest)\n\u001b[0;32m--> 565\u001b[0m     \u001b[39mraise\u001b[39;00m \u001b[39mConnectionError\u001b[39;00m(e, request\u001b[39m=\u001b[39mrequest)\n\u001b[1;32m    567\u001b[0m \u001b[39mexcept\u001b[39;00m ClosedPoolError \u001b[39mas\u001b[39;00m e:\n\u001b[1;32m    568\u001b[0m     \u001b[39mraise\u001b[39;00m \u001b[39mConnectionError\u001b[39;00m(e, request\u001b[39m=\u001b[39mrequest)\n",
      "\u001b[0;31mConnectionError\u001b[0m: HTTPConnectionPool(host='127.0.0.1', port=8000): Max retries exceeded with url: /predict (Caused by NewConnectionError('<urllib3.connection.HTTPConnection object at 0x7fe0802b1af0>: Failed to establish a new connection: [Errno 111] Connection refused'))"
     ]
    }
   ],
   "source": [
    "import base64\n",
    "from pathlib import Path\n",
    "\n",
    "import requests\n",
    "\n",
    "with open(\"coco128/images/train2017/000000000626.jpg\",\"rb\") as f:\n",
    "    imgstr = base64.b64encode(f.read()).decode(\"UTF-8\")\n",
    "\n",
    "body = {\"session\": \"UUID\", \"payload\": {'inputs': {'data': imgstr}}}\n",
    "resp = requests.post(\"http://127.0.0.1:8000/predict\", json=body)\n",
    "print(resp)"
   ]
  },
  {
   "cell_type": "code",
   "execution_count": 141,
   "id": "da86c614",
   "metadata": {},
   "outputs": [
    {
     "data": {
      "text/plain": [
       "{'session': 'UUID',\n",
       " 'result': {'outputs': [{'confidence': 0.8353,\n",
       "    'label': '85',\n",
       "    'points': [311, 120, 43, 46]},\n",
       "   {'confidence': 0.8147, 'label': '85', 'points': [397, 129, 19, 45]}]}}"
      ]
     },
     "execution_count": 141,
     "metadata": {},
     "output_type": "execute_result"
    }
   ],
   "source": [
    "resp.json()"
   ]
  },
  {
   "cell_type": "code",
   "execution_count": null,
   "id": "957a60aa",
   "metadata": {},
   "outputs": [],
   "source": []
  }
 ],
 "metadata": {
  "kernelspec": {
   "display_name": "Python 3 (ipykernel)",
   "language": "python",
   "name": "python3"
  },
  "language_info": {
   "codemirror_mode": {
    "name": "ipython",
    "version": 3
   },
   "file_extension": ".py",
   "mimetype": "text/x-python",
   "name": "python",
   "nbconvert_exporter": "python",
   "pygments_lexer": "ipython3",
   "version": "3.9.16"
  },
  "vscode": {
   "interpreter": {
    "hash": "c7673bdf0b19af03d567c0e33d89d2891a6ec8ad9ec669372217f5f6943ff9b0"
   }
  }
 },
 "nbformat": 4,
 "nbformat_minor": 5
}
